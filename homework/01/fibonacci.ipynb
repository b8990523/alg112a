{
 "cells": [
  {
   "cell_type": "code",
   "execution_count": 15,
   "metadata": {},
   "outputs": [
    {
     "name": "stdout",
     "output_type": "stream",
     "text": [
      "fibonacci(3) =  2\n"
     ]
    }
   ],
   "source": [
    "def fibonacci(n):\n",
    "    f = []\n",
    "    if n == 0:\n",
    "        return 0\n",
    "    elif n == 1:\n",
    "        f.append(0)\n",
    "        f.append(1)\n",
    "        return 1\n",
    "    else:\n",
    "        f.append(0)\n",
    "        f.append(1)\n",
    "        for i in range(2, n+1):\n",
    "            next_fib = f[i-1] + f[i-2]\n",
    "            f.append(next_fib)\n",
    "        return f[n]\n",
    "\n",
    "n = int(input('請輸入數字:'))\n",
    "result = fibonacci(n)\n",
    "print(f\"fibonacci({n}) = \",result)\n"
   ]
  }
 ],
 "metadata": {
  "kernelspec": {
   "display_name": "Python 3",
   "language": "python",
   "name": "python3"
  },
  "language_info": {
   "codemirror_mode": {
    "name": "ipython",
    "version": 3
   },
   "file_extension": ".py",
   "mimetype": "text/x-python",
   "name": "python",
   "nbconvert_exporter": "python",
   "pygments_lexer": "ipython3",
   "version": "3.10.7"
  },
  "orig_nbformat": 4
 },
 "nbformat": 4,
 "nbformat_minor": 2
}
